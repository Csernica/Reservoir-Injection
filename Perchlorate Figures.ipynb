{
 "cells": [
  {
   "cell_type": "code",
   "execution_count": 1,
   "id": "3114c308",
   "metadata": {},
   "outputs": [
    {
     "name": "stderr",
     "output_type": "stream",
     "text": [
      "c:\\Users\\tacse\\Documents\\Modified HPLC Introduction Paper\\Reservoir Inject Upload\\dataAnalyzerMN_IsoX.py:97: FutureWarning: Boolean inputs to the `inclusive` argument are deprecated infavour of `both` or `neither`.\n",
      "  mergedDf = mergedDf[mergedDf['retTime'].between(timeBounds[0], timeBounds[1], inclusive=True)]\n"
     ]
    },
    {
     "name": "stdout",
     "output_type": "stream",
     "text": [
      "20230106_08_Perchlorate_High_Precision_Same_Line_Same_Reservoir_STD_1\n",
      "20230106_09_Perchlorate_High_Precision_Same_Line_Same_Reservoir_STD_2\n",
      "20230106_10_Perchlorate_High_Precision_Same_Line_Same_Reservoir_STD_3\n",
      "20230106_11_Perchlorate_High_Precision_Same_Line_Same_Reservoir_STD_4\n",
      "20230106_12_Perchlorate_High_Precision_Same_Line_Same_Reservoir_STD_5\n",
      "20230106_13_Perchlorate_High_Precision_Same_Line_Same_Reservoir_STD_6\n",
      "20230106_14_Perchlorate_High_Precision_Same_Line_Same_Reservoir_STD_7\n",
      "20230106_08_Perchlorate_High_Precision_Same_Line_Same_Reservoir_STD_1 37Cl17O has 21 zero scans, out of 14251 scans (0.0014735808013472739)\n",
      "20230106_09_Perchlorate_High_Precision_Same_Line_Same_Reservoir_STD_2 37Cl17O has 22 zero scans, out of 14282 scans (0.001540400504131074)\n",
      "20230106_10_Perchlorate_High_Precision_Same_Line_Same_Reservoir_STD_3 37Cl17O has 30 zero scans, out of 14323 scans (0.002094533268170076)\n",
      "20230106_11_Perchlorate_High_Precision_Same_Line_Same_Reservoir_STD_4 37Cl17O has 29 zero scans, out of 14330 scans (0.0020237264480111655)\n",
      "20230106_12_Perchlorate_High_Precision_Same_Line_Same_Reservoir_STD_5 37Cl17O has 32 zero scans, out of 14346 scans (0.002230586923184163)\n",
      "20230106_13_Perchlorate_High_Precision_Same_Line_Same_Reservoir_STD_6 37Cl17O has 47 zero scans, out of 14330 scans (0.0032798325191905095)\n",
      "20230106_14_Perchlorate_High_Precision_Same_Line_Same_Reservoir_STD_7 37Cl17O has 48 zero scans, out of 14330 scans (0.003349616189811584)\n",
      "17O\n"
     ]
    },
    {
     "name": "stderr",
     "output_type": "stream",
     "text": [
      "100%|██████████| 12251/12251 [00:04<00:00, 2808.98it/s]\n",
      "100%|██████████| 12282/12282 [00:04<00:00, 2901.71it/s]\n",
      "100%|██████████| 12323/12323 [00:04<00:00, 3009.96it/s]\n",
      "100%|██████████| 12330/12330 [00:04<00:00, 2872.37it/s]\n",
      "100%|██████████| 12346/12346 [00:03<00:00, 3087.81it/s]\n",
      "100%|██████████| 12330/12330 [00:03<00:00, 3175.69it/s]\n",
      "100%|██████████| 12330/12330 [00:02<00:00, 4112.77it/s]\n"
     ]
    },
    {
     "name": "stdout",
     "output_type": "stream",
     "text": [
      "18O\n"
     ]
    },
    {
     "name": "stderr",
     "output_type": "stream",
     "text": [
      "100%|██████████| 12251/12251 [00:03<00:00, 3756.68it/s]\n",
      "100%|██████████| 12282/12282 [00:03<00:00, 3280.46it/s]\n",
      "100%|██████████| 12323/12323 [00:04<00:00, 2792.28it/s]\n",
      "100%|██████████| 12330/12330 [00:03<00:00, 3557.69it/s]\n",
      "100%|██████████| 12346/12346 [00:03<00:00, 3671.37it/s]\n",
      "100%|██████████| 12330/12330 [00:03<00:00, 3591.60it/s]\n",
      "100%|██████████| 12330/12330 [00:03<00:00, 3685.77it/s]\n"
     ]
    },
    {
     "name": "stdout",
     "output_type": "stream",
     "text": [
      "37Cl\n"
     ]
    },
    {
     "name": "stderr",
     "output_type": "stream",
     "text": [
      "100%|██████████| 12251/12251 [00:02<00:00, 4115.16it/s]\n",
      "100%|██████████| 12282/12282 [00:03<00:00, 3650.98it/s]\n",
      "100%|██████████| 12323/12323 [00:03<00:00, 3097.51it/s]\n",
      "100%|██████████| 12330/12330 [00:03<00:00, 3388.97it/s]\n",
      "100%|██████████| 12346/12346 [00:03<00:00, 3796.50it/s]\n",
      "100%|██████████| 12330/12330 [00:02<00:00, 4286.92it/s]\n",
      "100%|██████████| 12330/12330 [00:03<00:00, 3299.94it/s]\n"
     ]
    },
    {
     "name": "stdout",
     "output_type": "stream",
     "text": [
      "37Cl17O\n"
     ]
    },
    {
     "name": "stderr",
     "output_type": "stream",
     "text": [
      "100%|██████████| 12251/12251 [00:03<00:00, 3136.78it/s]\n",
      "100%|██████████| 12282/12282 [00:04<00:00, 2903.76it/s]\n",
      "100%|██████████| 12323/12323 [00:03<00:00, 3219.37it/s]\n",
      "100%|██████████| 12330/12330 [00:03<00:00, 3834.64it/s]\n",
      "100%|██████████| 12346/12346 [00:04<00:00, 2510.94it/s]\n",
      "100%|██████████| 12330/12330 [00:03<00:00, 3358.59it/s]\n",
      "100%|██████████| 12330/12330 [00:03<00:00, 3919.21it/s]\n"
     ]
    },
    {
     "name": "stdout",
     "output_type": "stream",
     "text": [
      "37Cl18O\n"
     ]
    },
    {
     "name": "stderr",
     "output_type": "stream",
     "text": [
      "100%|██████████| 12251/12251 [00:03<00:00, 3703.91it/s]\n",
      "100%|██████████| 12282/12282 [00:03<00:00, 3573.95it/s]\n",
      "100%|██████████| 12323/12323 [00:03<00:00, 3184.53it/s]\n",
      "100%|██████████| 12330/12330 [00:03<00:00, 3088.43it/s]\n",
      "100%|██████████| 12346/12346 [00:03<00:00, 3365.69it/s]\n",
      "100%|██████████| 12330/12330 [00:03<00:00, 3492.87it/s]\n",
      "100%|██████████| 12330/12330 [00:03<00:00, 3681.24it/s]\n"
     ]
    },
    {
     "name": "stdout",
     "output_type": "stream",
     "text": [
      "Unsub\n",
      "20230106_15_Perchlorate_High_Precision_Same_Line_Same_Reservoir_STD_1\n",
      "20230106_16_Perchlorate_High_Precision_Same_Line_Same_Reservoir_STD_2\n",
      "20230106_17_Perchlorate_High_Precision_Same_Line_Same_Reservoir_STD_3\n",
      "20230106_18_Perchlorate_High_Precision_Same_Line_Same_Reservoir_STD_4\n",
      "20230106_19_Perchlorate_High_Precision_Same_Line_Same_Reservoir_STD_5\n",
      "20230106_20_Perchlorate_High_Precision_Same_Line_Same_Reservoir_STD_6\n",
      "20230106_21_Perchlorate_High_Precision_Same_Line_Same_Reservoir_STD_7\n",
      "File 20230106_15_Perchlorate_High_Precision_Same_Line_Same_Reservoir_STD_1 98.9 37Cl17O/Unsub fails RSE/SN Test with value of 2.058352587772418\n",
      "File 20230106_16_Perchlorate_High_Precision_Same_Line_Same_Reservoir_STD_2 98.9 37Cl17O/Unsub fails RSE/SN Test with value of 2.015838390656839\n",
      "File 20230106_17_Perchlorate_High_Precision_Same_Line_Same_Reservoir_STD_3 98.9 37Cl17O/Unsub fails RSE/SN Test with value of 2.0411675212529117\n",
      "File 20230106_18_Perchlorate_High_Precision_Same_Line_Same_Reservoir_STD_4 98.9 37Cl17O/Unsub fails RSE/SN Test with value of 2.0652480838695078\n",
      "File 20230106_19_Perchlorate_High_Precision_Same_Line_Same_Reservoir_STD_5 98.9 37Cl17O/Unsub fails RSE/SN Test with value of 2.1244898660276728\n",
      "File 20230106_20_Perchlorate_High_Precision_Same_Line_Same_Reservoir_STD_6 98.9 37Cl17O/Unsub fails RSE/SN Test with value of 2.0591496075380293\n",
      "File 20230106_21_Perchlorate_High_Precision_Same_Line_Same_Reservoir_STD_7 98.9 37Cl17O/Unsub fails RSE/SN Test with value of 2.090546645169759\n",
      "20230106_15_Perchlorate_High_Precision_Same_Line_Same_Reservoir_STD_1 37Cl17O has 2807 zero scans, out of 14653 scans (0.19156486726267657)\n",
      "20230106_16_Perchlorate_High_Precision_Same_Line_Same_Reservoir_STD_2 37Cl17O has 2682 zero scans, out of 14660 scans (0.18294679399727148)\n",
      "20230106_17_Perchlorate_High_Precision_Same_Line_Same_Reservoir_STD_3 37Cl17O has 2781 zero scans, out of 14688 scans (0.18933823529411764)\n",
      "20230106_18_Perchlorate_High_Precision_Same_Line_Same_Reservoir_STD_4 37Cl17O has 2854 zero scans, out of 14695 scans (0.19421571963252807)\n",
      "20230106_19_Perchlorate_High_Precision_Same_Line_Same_Reservoir_STD_5 37Cl17O has 3129 zero scans, out of 14702 scans (0.2128281866412733)\n",
      "20230106_20_Perchlorate_High_Precision_Same_Line_Same_Reservoir_STD_6 37Cl17O has 2832 zero scans, out of 14699 scans (0.19266616776651474)\n",
      "20230106_21_Perchlorate_High_Precision_Same_Line_Same_Reservoir_STD_7 37Cl17O has 2971 zero scans, out of 14694 scans (0.202191370627467)\n",
      "17O\n"
     ]
    },
    {
     "name": "stderr",
     "output_type": "stream",
     "text": [
      "100%|██████████| 12653/12653 [00:03<00:00, 3879.76it/s]\n",
      "100%|██████████| 12660/12660 [00:03<00:00, 4015.09it/s]\n",
      "100%|██████████| 12688/12688 [00:02<00:00, 4704.38it/s]\n",
      "100%|██████████| 12695/12695 [00:02<00:00, 5065.16it/s]\n",
      "100%|██████████| 12702/12702 [00:02<00:00, 5263.36it/s]\n",
      "100%|██████████| 12699/12699 [00:02<00:00, 5329.74it/s]\n",
      "100%|██████████| 12694/12694 [00:02<00:00, 5060.07it/s]\n"
     ]
    },
    {
     "name": "stdout",
     "output_type": "stream",
     "text": [
      "18O\n"
     ]
    },
    {
     "name": "stderr",
     "output_type": "stream",
     "text": [
      "100%|██████████| 12653/12653 [00:02<00:00, 4255.86it/s]\n",
      "100%|██████████| 12660/12660 [00:02<00:00, 4307.40it/s]\n",
      "100%|██████████| 12688/12688 [00:02<00:00, 4501.71it/s]\n",
      "100%|██████████| 12695/12695 [00:02<00:00, 4654.36it/s]\n",
      "100%|██████████| 12702/12702 [00:02<00:00, 4591.14it/s]\n",
      "100%|██████████| 12699/12699 [00:02<00:00, 4722.98it/s]\n",
      "100%|██████████| 12694/12694 [00:02<00:00, 4581.06it/s]\n"
     ]
    },
    {
     "name": "stdout",
     "output_type": "stream",
     "text": [
      "37Cl\n"
     ]
    },
    {
     "name": "stderr",
     "output_type": "stream",
     "text": [
      "100%|██████████| 12653/12653 [00:02<00:00, 4725.06it/s]\n",
      "100%|██████████| 12660/12660 [00:02<00:00, 4275.47it/s]\n",
      "100%|██████████| 12688/12688 [00:03<00:00, 3769.46it/s]\n",
      "100%|██████████| 12695/12695 [00:03<00:00, 3541.28it/s]\n",
      "100%|██████████| 12702/12702 [00:02<00:00, 4269.47it/s]\n",
      "100%|██████████| 12699/12699 [00:02<00:00, 4321.37it/s]\n",
      "100%|██████████| 12694/12694 [00:02<00:00, 4607.73it/s]\n"
     ]
    },
    {
     "name": "stdout",
     "output_type": "stream",
     "text": [
      "37Cl17O\n"
     ]
    },
    {
     "name": "stderr",
     "output_type": "stream",
     "text": [
      "100%|██████████| 12653/12653 [00:02<00:00, 4662.50it/s]\n",
      "100%|██████████| 12660/12660 [00:02<00:00, 4565.29it/s]\n",
      "100%|██████████| 12688/12688 [00:03<00:00, 4055.44it/s]\n",
      "100%|██████████| 12695/12695 [00:03<00:00, 4131.72it/s]\n",
      "100%|██████████| 12702/12702 [00:02<00:00, 4248.15it/s]\n",
      "100%|██████████| 12699/12699 [00:02<00:00, 4619.31it/s]\n",
      "100%|██████████| 12694/12694 [00:02<00:00, 4456.45it/s]\n"
     ]
    },
    {
     "name": "stdout",
     "output_type": "stream",
     "text": [
      "37Cl18O\n"
     ]
    },
    {
     "name": "stderr",
     "output_type": "stream",
     "text": [
      "100%|██████████| 12653/12653 [00:02<00:00, 5286.19it/s]\n",
      "100%|██████████| 12660/12660 [00:02<00:00, 5375.36it/s]\n",
      "100%|██████████| 12688/12688 [00:02<00:00, 5171.88it/s]\n",
      "100%|██████████| 12695/12695 [00:02<00:00, 4603.55it/s]\n",
      "100%|██████████| 12702/12702 [00:02<00:00, 4775.39it/s]\n",
      "100%|██████████| 12699/12699 [00:02<00:00, 4667.51it/s]\n",
      "100%|██████████| 12694/12694 [00:02<00:00, 5263.75it/s]\n"
     ]
    },
    {
     "name": "stdout",
     "output_type": "stream",
     "text": [
      "Unsub\n",
      "20230106_22_Perchlorate_High_Precision_Different_Line_Same_Reservoir_STD_1\n",
      "20230106_23_Perchlorate_High_Precision_Different_Line_Same_Reservoir_STD_2\n",
      "20230106_24_Perchlorate_High_Precision_Different_Line_Same_Reservoir_STD_3\n",
      "20230106_25_Perchlorate_High_Precision_Different_Line_Same_Reservoir_STD_4\n",
      "20230106_26_Perchlorate_High_Precision_Different_Line_Same_Reservoir_STD_5\n",
      "20230106_27_Perchlorate_High_Precision_Different_Line_Same_Reservoir_STD_6\n",
      "20230106_28_Perchlorate_High_Precision_Different_Line_Same_Reservoir_STD_7\n",
      "File 20230106_22_Perchlorate_High_Precision_Different_Line_Same_Reservoir_STD_1 98.9 37Cl17O/Unsub fails RSE/SN Test with value of 2.113598868787402\n",
      "File 20230106_23_Perchlorate_High_Precision_Different_Line_Same_Reservoir_STD_2 98.9 37Cl17O/Unsub fails RSE/SN Test with value of 2.0584607504571504\n",
      "File 20230106_24_Perchlorate_High_Precision_Different_Line_Same_Reservoir_STD_3 98.9 37Cl17O/Unsub fails RSE/SN Test with value of 2.0239205259431867\n",
      "File 20230106_25_Perchlorate_High_Precision_Different_Line_Same_Reservoir_STD_4 98.9 37Cl17O/Unsub fails RSE/SN Test with value of 2.0490380512447692\n",
      "File 20230106_26_Perchlorate_High_Precision_Different_Line_Same_Reservoir_STD_5 98.9 37Cl17O/Unsub fails RSE/SN Test with value of 2.031768020295352\n",
      "File 20230106_27_Perchlorate_High_Precision_Different_Line_Same_Reservoir_STD_6 98.9 37Cl17O/Unsub fails RSE/SN Test with value of 2.0428839406473394\n",
      "File 20230106_28_Perchlorate_High_Precision_Different_Line_Same_Reservoir_STD_7 98.9 37Cl17O/Unsub fails RSE/SN Test with value of 2.033616462752743\n",
      "20230106_22_Perchlorate_High_Precision_Different_Line_Same_Reservoir_STD_1 37Cl17O has 3046 zero scans, out of 14666 scans (0.207691258693577)\n",
      "20230106_23_Perchlorate_High_Precision_Different_Line_Same_Reservoir_STD_2 37Cl17O has 2874 zero scans, out of 14689 scans (0.19565661379263394)\n",
      "20230106_24_Perchlorate_High_Precision_Different_Line_Same_Reservoir_STD_3 37Cl17O has 2744 zero scans, out of 14641 scans (0.1874188921521754)\n",
      "20230106_25_Perchlorate_High_Precision_Different_Line_Same_Reservoir_STD_4 37Cl17O has 2841 zero scans, out of 14653 scans (0.1938852112195455)\n",
      "20230106_26_Perchlorate_High_Precision_Different_Line_Same_Reservoir_STD_5 37Cl17O has 2762 zero scans, out of 14660 scans (0.18840381991814462)\n",
      "20230106_27_Perchlorate_High_Precision_Different_Line_Same_Reservoir_STD_6 37Cl17O has 2821 zero scans, out of 14650 scans (0.19255972696245735)\n",
      "20230106_28_Perchlorate_High_Precision_Different_Line_Same_Reservoir_STD_7 37Cl17O has 2767 zero scans, out of 14670 scans (0.18861622358554875)\n",
      "17O\n"
     ]
    },
    {
     "name": "stderr",
     "output_type": "stream",
     "text": [
      "100%|██████████| 12666/12666 [00:02<00:00, 4253.10it/s]\n",
      "100%|██████████| 12689/12689 [00:02<00:00, 4380.51it/s]\n",
      "100%|██████████| 12641/12641 [00:03<00:00, 4139.35it/s]\n",
      "100%|██████████| 12653/12653 [00:03<00:00, 3539.62it/s]\n",
      "100%|██████████| 12660/12660 [00:03<00:00, 3768.87it/s]\n",
      "100%|██████████| 12650/12650 [00:03<00:00, 3488.60it/s]\n",
      "100%|██████████| 12670/12670 [00:03<00:00, 3881.42it/s]\n"
     ]
    },
    {
     "name": "stdout",
     "output_type": "stream",
     "text": [
      "18O\n"
     ]
    },
    {
     "name": "stderr",
     "output_type": "stream",
     "text": [
      "100%|██████████| 12666/12666 [00:03<00:00, 3287.54it/s]\n",
      "100%|██████████| 12689/12689 [00:03<00:00, 3580.87it/s]\n",
      "100%|██████████| 12641/12641 [00:02<00:00, 4247.51it/s]\n",
      "100%|██████████| 12653/12653 [00:02<00:00, 5058.37it/s]\n",
      "100%|██████████| 12660/12660 [00:02<00:00, 5027.99it/s]\n",
      "100%|██████████| 12650/12650 [00:02<00:00, 4996.96it/s]\n",
      "100%|██████████| 12670/12670 [00:03<00:00, 4214.47it/s]\n"
     ]
    },
    {
     "name": "stdout",
     "output_type": "stream",
     "text": [
      "37Cl\n"
     ]
    },
    {
     "name": "stderr",
     "output_type": "stream",
     "text": [
      "100%|██████████| 12666/12666 [00:02<00:00, 4312.35it/s]\n",
      "100%|██████████| 12689/12689 [00:03<00:00, 4171.46it/s]\n",
      "100%|██████████| 12641/12641 [00:02<00:00, 4575.15it/s]\n",
      "100%|██████████| 12653/12653 [00:02<00:00, 4679.22it/s]\n",
      "100%|██████████| 12660/12660 [00:04<00:00, 3067.44it/s]\n",
      "100%|██████████| 12650/12650 [00:03<00:00, 3468.69it/s]\n",
      "100%|██████████| 12670/12670 [00:03<00:00, 3191.56it/s]\n"
     ]
    },
    {
     "name": "stdout",
     "output_type": "stream",
     "text": [
      "37Cl17O\n"
     ]
    },
    {
     "name": "stderr",
     "output_type": "stream",
     "text": [
      "100%|██████████| 12666/12666 [00:03<00:00, 4176.43it/s]\n",
      "100%|██████████| 12689/12689 [00:02<00:00, 4333.31it/s]\n",
      "100%|██████████| 12641/12641 [00:02<00:00, 4355.00it/s]\n",
      "100%|██████████| 12653/12653 [00:03<00:00, 3770.24it/s]\n",
      "100%|██████████| 12660/12660 [00:03<00:00, 3457.85it/s]\n",
      "100%|██████████| 12650/12650 [00:03<00:00, 4024.34it/s]\n",
      "100%|██████████| 12670/12670 [00:03<00:00, 3858.90it/s]\n"
     ]
    },
    {
     "name": "stdout",
     "output_type": "stream",
     "text": [
      "37Cl18O\n"
     ]
    },
    {
     "name": "stderr",
     "output_type": "stream",
     "text": [
      "100%|██████████| 12666/12666 [00:03<00:00, 4031.67it/s]\n",
      "100%|██████████| 12689/12689 [00:03<00:00, 3599.14it/s]\n",
      "100%|██████████| 12641/12641 [00:03<00:00, 3925.30it/s]\n",
      "100%|██████████| 12653/12653 [00:03<00:00, 3650.89it/s]\n",
      "100%|██████████| 12660/12660 [00:03<00:00, 3836.13it/s]\n",
      "100%|██████████| 12650/12650 [00:03<00:00, 3442.95it/s]\n",
      "100%|██████████| 12670/12670 [00:04<00:00, 2907.71it/s]"
     ]
    },
    {
     "name": "stdout",
     "output_type": "stream",
     "text": [
      "Unsub\n"
     ]
    },
    {
     "name": "stderr",
     "output_type": "stream",
     "text": [
      "\n"
     ]
    }
   ],
   "source": [
    "run readPerchlorate.py"
   ]
  },
  {
   "cell_type": "code",
   "execution_count": 2,
   "id": "f827e74d",
   "metadata": {},
   "outputs": [],
   "source": [
    "#Read in results from dataframes and compute ratios\n",
    "\n",
    "import numpy as np\n",
    "\n",
    "triplicateNameDict = {'20230106_08_to_14_Perchlorate_High_Precision_Same_Line_Same_Reservoir_Combined_5e5.isox':'5e5',\n",
    "'20230106_15_to_21_Perchlorate_High_Precision_Same_Line_Same_Reservoir_Combined_2e5.isox':'2e5_S',\n",
    "'20230106_22_to_28_Perchlorate_High_Precision_Different_Line_Same_Reservoir_Combined_2e5.isox':'2e5_D'}\n",
    "\n",
    "triplicateRatios = {}\n",
    "\n",
    "#Go through each triplicate, i.e. each set of 7 files.\n",
    "for triplicateIdx, (triplicateName, triplicateData) in enumerate(allTriplicates.items()):\n",
    "    thisName = triplicateNameDict[triplicateName]\n",
    "    triplicateRatios[thisName] = {}\n",
    "    ratioKeys = ['37Cl/Unsub','17O/Unsub','18O/Unsub','37Cl17O/Unsub','37Cl18O/Unsub']\n",
    "    allOutputDict = triplicateData['allOutputDict']\n",
    "    #Go through each of the 7 files for this triplicate\n",
    "    for fileNumber, (fileKey, fileData) in enumerate(allOutputDict.items()):\n",
    "        #98.9 is the mass of the main perchlorate peak, so use as an index\n",
    "        thisFileData = fileData['98.9']\n",
    "        #go through by ratio\n",
    "        for ratIdx, ratioKey in enumerate(ratioKeys):\n",
    "            if ratioKey not in triplicateRatios[thisName]:\n",
    "                triplicateRatios[thisName][ratioKey] = {'Ratio':[],'StError':[],'SN':[]}\n",
    "            #Pull out relevant info\n",
    "            triplicateRatios[thisName][ratioKey]['Ratio'].append(thisFileData[ratioKey]['Ratio']),\n",
    "            triplicateRatios[thisName][ratioKey]['StError'].append(thisFileData[ratioKey]['StError'])\n",
    "            triplicateRatios[thisName][ratioKey]['SN'].append(thisFileData[ratioKey]['ShotNoiseLimit'])"
   ]
  },
  {
   "cell_type": "code",
   "execution_count": 3,
   "id": "9a5d4f39",
   "metadata": {},
   "outputs": [],
   "source": [
    "#Compute sample standard comparisons\n",
    "standardizedTriplicates = {}\n",
    "\n",
    "#For each triplicate\n",
    "for triplicateIdx, (triplicateKey, triplicateData) in enumerate(triplicateRatios.items()):\n",
    "    standardizedTriplicates[triplicateKey] = {}\n",
    "    #For each ratio\n",
    "    for ratIdx, (ratioKey, ratioData) in enumerate(triplicateData.items()):\n",
    "        if ratioKey not in standardizedTriplicates[triplicateKey]:\n",
    "            standardizedTriplicates[triplicateKey][ratioKey] = {'Ratio':[],'RSE':[],'PSN':[]}\n",
    "        for fileNumber in range(len(ratioData['Ratio'])):\n",
    "            #If the file is a sample\n",
    "            if fileNumber in [1,3,5]:\n",
    "                #Compute relevant sample standard comparisons and error\n",
    "                smpStdOne = triplicateData[ratioKey]['Ratio'][fileNumber] / triplicateData[ratioKey]['Ratio'][fileNumber - 1]\n",
    "                smpStdTwo = triplicateData[ratioKey]['Ratio'][fileNumber] / triplicateData[ratioKey]['Ratio'][fileNumber + 1]\n",
    "                avgSmpStdCompare = (smpStdOne + smpStdTwo) / 2\n",
    "\n",
    "                #Relative standard error\n",
    "                RSEOne = triplicateData[ratioKey]['StError'][fileNumber - 1] / triplicateData[ratioKey]['Ratio'][fileNumber - 1]\n",
    "                RSETwo = triplicateData[ratioKey]['StError'][fileNumber + 1] / triplicateData[ratioKey]['Ratio'][fileNumber + 1]\n",
    "                RSESmp = RSETwo = triplicateData[ratioKey]['StError'][fileNumber] / triplicateData[ratioKey]['Ratio'][fileNumber]\n",
    "\n",
    "                avgStdRSE = (RSEOne + RSETwo) / 2\n",
    "\n",
    "                errQuad = np.sqrt(RSESmp**2+avgStdRSE**2)\n",
    "\n",
    "                #Shot noise\n",
    "                SNOne = triplicateData[ratioKey]['SN'][fileNumber - 1]\n",
    "                SNTwo = triplicateData[ratioKey]['SN'][fileNumber + 1]\n",
    "                SNSmp = triplicateData[ratioKey]['SN'][fileNumber]\n",
    "\n",
    "                avgStdSN = (SNOne + SNTwo) / 2\n",
    "                \n",
    "                SNQuad = np.sqrt(SNSmp**2+avgStdSN**2)\n",
    "\n",
    "                #Output the computed statistics\n",
    "                standardizedTriplicates[triplicateKey][ratioKey]['Ratio'].append(avgSmpStdCompare)\n",
    "                standardizedTriplicates[triplicateKey][ratioKey]['RSE'].append(errQuad)\n",
    "                standardizedTriplicates[triplicateKey][ratioKey]['PSN'].append(SNQuad)"
   ]
  },
  {
   "cell_type": "code",
   "execution_count": 4,
   "id": "2b57f9c1",
   "metadata": {},
   "outputs": [
    {
     "data": {
      "image/png": "[encoded data removed]",
      "text/plain": [
       "<Figure size 655.2x302.4 with 6 Axes>"
      ]
     },
     "metadata": {
      "needs_background": "light"
     },
     "output_type": "display_data"
    }
   ],
   "source": [
    "#First output plot; the 37Cl data\n",
    "import matplotlib.pyplot as plt\n",
    "\n",
    "fig, axes = plt.subplots(nrows = 3, ncols = 2, figsize = (13*0.7,6*0.7), \n",
    "                         gridspec_kw={'width_ratios': [3, 2.5]}, sharex = 'col')\n",
    "\n",
    "#Parameters for the scatter plots\n",
    "plotParamsDict = {'5e5':{   'marker' : 's',\n",
    "                            'markersize' : 10,\n",
    "                            'mfc' : 'w',\n",
    "                            'mec' : 'k',\n",
    "                            'mew' : 1.2,\n",
    "                            'deltaYlim':(-1.2,1.2)},\n",
    "                            \n",
    "                '2e5_S':{   'marker' : 'o',\n",
    "                            'markersize' : 10,\n",
    "                            'mfc' : 'w',\n",
    "                            'mec' : 'tab:red',\n",
    "                            'mew' : 1.2,\n",
    "                            'deltaYlim':(-1.2,1.2)},\n",
    "                    \n",
    "                '2e5_D':{   'marker' : '^',\n",
    "                            'markersize' : 10,\n",
    "                            'mfc' : 'w',\n",
    "                            'mec' : 'darkblue',\n",
    "                            'mew' : 1.2,\n",
    "                            'deltaYlim':(-1.2,1.2)}}\n",
    "\n",
    "actualValueColor = 'tab:red'\n",
    "\n",
    "plotKeys = ['5e5','2e5_S','2e5_D']\n",
    "\n",
    "#For each experiment\n",
    "for plotIdx, plotKey in enumerate(plotKeys):\n",
    "    #Get the new axes, plot raw values with relevant parameters\n",
    "    cAx = axes[plotIdx,0]\n",
    "\n",
    "    cAx.errorbar(range(7), triplicateRatios[plotKey]['37Cl/Unsub']['Ratio'], triplicateRatios[plotKey]['37Cl/Unsub']['StError'],\n",
    "    fmt = plotParamsDict[plotKey]['marker'], \n",
    "    markersize = plotParamsDict[plotKey]['markersize'], \n",
    "    mfc = plotParamsDict[plotKey]['mfc'], \n",
    "    mec = plotParamsDict[plotKey]['mec'], \n",
    "    ecolor = plotParamsDict[plotKey]['mec'], \n",
    "    mew  = plotParamsDict[plotKey]['mew'])\n",
    "\n",
    "    #add labels\n",
    "    xticks = list(range(7))\n",
    "    xtickLabels = ['Std 1','Smp 1','Std 2','Smp 2','Std 3', 'Smp 3','Std 4']\n",
    "\n",
    "    #beautify axis\n",
    "    cAx.set_xticks(xticks)\n",
    "    cAx.set_xticklabels(xtickLabels)\n",
    "    #cAx.set_ylim(0.0596,0.0619)\n",
    "    cAx.yaxis.set_major_locator(plt.MaxNLocator(3))\n",
    "\n",
    "    if plotIdx == 0:\n",
    "        cAx.set_title(u\"$^{37}$Cl/Unsub\", fontsize = 16)\n",
    "    cAx.set_ylabel(plotKey, fontsize = 16)\n",
    "\n",
    "    #Plot standardized values with relevant parameters\n",
    "    cAx = axes[plotIdx,1]\n",
    "    \n",
    "    thisDeltas = 1000*(np.array(standardizedTriplicates[plotKey]['37Cl/Unsub']['Ratio'])-1)\n",
    "    cAx.errorbar(range(3),thisDeltas, standardizedTriplicates[plotKey]['37Cl/Unsub']['RSE'],    \n",
    "            fmt = plotParamsDict[plotKey]['marker'], \n",
    "            markersize = plotParamsDict[plotKey]['markersize'], \n",
    "            mfc = plotParamsDict[plotKey]['mfc'], \n",
    "            mec = plotParamsDict[plotKey]['mec'], \n",
    "            ecolor = plotParamsDict[plotKey]['mec'], \n",
    "            mew  = plotParamsDict[plotKey]['mew'])\n",
    "\n",
    "    xticks = list(range(3))\n",
    "    xtickLabels = ['Bracket 1', 'Bracket 2','Bracket 3']\n",
    "\n",
    "    #Beautify axis\n",
    "    cAx.set_xlim(-0.3,2.3)\n",
    "\n",
    "    cAx.set_xticks(xticks)\n",
    "    cAx.set_xticklabels(xtickLabels)\n",
    "    if plotIdx == 0:\n",
    "        cAx.set_title(u\"$\\delta^{37}Cl_{STD}$\", fontsize = 16)\n",
    "\n",
    "    cAx.hlines(0,-0.5,2.5,linestyle = '--',color = actualValueColor, \n",
    "            label = \"Independent  Value\")\n",
    "\n",
    "    cAx.yaxis.set_major_locator(plt.MaxNLocator(3))\n",
    "    cAx.set_ylim(plotParamsDict[plotKey]['deltaYlim'])\n",
    "       \n",
    "plt.tight_layout()\n",
    "\n",
    "#Output as vector format\n",
    "fig.savefig('Perchlorate Replicability.eps')"
   ]
  },
  {
   "cell_type": "code",
   "execution_count": 5,
   "id": "d3b8f4c8",
   "metadata": {},
   "outputs": [
    {
     "data": {
      "image/png": "[encoded data removed]",
      "text/plain": [
       "<Figure size 885.6x295.2 with 8 Axes>"
      ]
     },
     "metadata": {
      "needs_background": "light"
     },
     "output_type": "display_data"
    }
   ],
   "source": [
    "#Second output plot; remaining data\n",
    "\n",
    "fig, axes = plt.subplots(nrows = 2, ncols = 4, figsize = (15*0.82,5*0.82), \n",
    "                         gridspec_kw={'width_ratios': [1,1,1,1]}, sharex = 'col')\n",
    "\n",
    "#relevant plot parameters\n",
    "plotParamsDict = {'17O/Unsub':{   'marker' : 's',\n",
    "                            'markersize' : 10,\n",
    "                            'mfc' : 'w',\n",
    "                            'mec' : 'tab:red',\n",
    "                            'mew' : 1.2,\n",
    "                            'deltaYlim':(-1.2,1.2)},\n",
    "                            \n",
    "                '18O/Unsub':{   'marker' : 'o',\n",
    "                            'markersize' : 10,\n",
    "                            'mfc' : 'w',\n",
    "                            'mec' : 'darkred',\n",
    "                            'mew' : 1.2,\n",
    "                            'deltaYlim':(-1.2,1.2)},\n",
    "                    \n",
    "                '37Cl17O/Unsub':{   'marker' : '^',\n",
    "                            'markersize' : 10,\n",
    "                            'mfc' : 'w',\n",
    "                            'mec' : 'darkolivegreen',\n",
    "                            'mew' : 1.2,\n",
    "                            'deltaYlim':(-1.2,1.2)},\n",
    "                            \n",
    "                '37Cl18O/Unsub':{   'marker' : 'H',\n",
    "                            'markersize' : 10,\n",
    "                            'mfc' : 'w',\n",
    "                            'mec' : 'darkgreen',\n",
    "                            'mew' : 1.2,\n",
    "                            'deltaYlim':(-1.2,1.2)}}\n",
    "\n",
    "actualValueColor = 'tab:red'\n",
    "\n",
    "#Ignore 2e5_S because it is qualitatively similar and adds clutter\n",
    "plotKeys = ['5e5','2e5_D']\n",
    "\n",
    "ratKeys = ['17O/Unsub','18O/Unsub','37Cl17O/Unsub','37Cl18O/Unsub']\n",
    "fancyRatKeys = [u\"$\\delta^{17}O_{STD}$\",u\"$\\delta^{18}O_{STD}$\",u\"$\\delta^{37}Cl^{17}O_{STD}$\",u\"$\\delta^{37}Cl^{18}O_{STD}$\"]\n",
    "\n",
    "#Go throguh each plot, then each ratio\n",
    "for plotIdx, plotKey in enumerate(plotKeys):\n",
    "    for ratIdx, ratKey in enumerate(ratKeys):\n",
    "        cAx = axes[plotIdx,ratIdx]\n",
    "    \n",
    "        #Plot standardized values\n",
    "        thisDeltas = 1000*(np.array(standardizedTriplicates[plotKey][ratKey]['Ratio'])-1)\n",
    "        cAx.errorbar(range(3),thisDeltas, 1000*np.array(standardizedTriplicates[plotKey][ratKey]['RSE']),    \n",
    "                fmt = plotParamsDict[ratKey]['marker'], \n",
    "                markersize = plotParamsDict[ratKey]['markersize'], \n",
    "                mfc = plotParamsDict[ratKey]['mfc'], \n",
    "                mec = plotParamsDict[ratKey]['mec'], \n",
    "                ecolor = plotParamsDict[ratKey]['mec'], \n",
    "                mew  = plotParamsDict[ratKey]['mew'])\n",
    "\n",
    "        #label axis\n",
    "        xticks = list(range(3))\n",
    "        xtickLabels = ['Bracket 1', 'Bracket 2','Bracket 3']\n",
    "\n",
    "        #beautify axis\n",
    "        cAx.set_xlim(-0.3,2.3)\n",
    "\n",
    "        cAx.set_xticks(xticks)\n",
    "        cAx.set_xticklabels(xtickLabels)\n",
    "        if ratIdx == 0:\n",
    "            cAx.set_ylabel(plotKeys[plotIdx], fontsize = 16)\n",
    "\n",
    "        cAx.hlines(0,-0.5,2.5,linestyle = '--',color = actualValueColor, \n",
    "                label = \"Independent  Value\")\n",
    "\n",
    "        cAx.yaxis.set_major_locator(plt.MaxNLocator(3))\n",
    "\n",
    "        #Add precision labels\n",
    "        thisPrecision = 1000 * np.array(standardizedTriplicates[plotKey][ratKey]['RSE']).mean()\n",
    "        cAx.set_title(fancyRatKeys[ratIdx] + \" {:.1f}\".format(thisPrecision) + \" ‰\", fontsize = 16)                           \n",
    "        #cAx.set_ylim(plotParamsDict[plotKey]['deltaYlim'])\n",
    "\n",
    "plt.tight_layout()\n",
    "\n",
    "#Output\n",
    "fig.savefig('Perchlorate Other Data.eps')"
   ]
  }
 ],
 "metadata": {
  "kernelspec": {
   "display_name": "Python 3.7.11 ('Orbitrap')",
   "language": "python",
   "name": "python3"
  },
  "language_info": {
   "codemirror_mode": {
    "name": "ipython",
    "version": 3
   },
   "file_extension": ".py",
   "mimetype": "text/x-python",
   "name": "python",
   "nbconvert_exporter": "python",
   "pygments_lexer": "ipython3",
   "version": "3.7.11"
  },
  "vscode": {
   "interpreter": {
    "hash": "16f5581f95d5a0d39305ef18d1df771fa3d7ec0a3108dd60bc5ee9e96d6232e4"
   }
  }
 },
 "nbformat": 4,
 "nbformat_minor": 5
}

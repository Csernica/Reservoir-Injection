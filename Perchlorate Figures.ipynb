{
 "cells": [
  {
   "cell_type": "code",
   "execution_count": 1,
   "id": "3114c308",
   "metadata": {},
   "outputs": [
    {
     "name": "stderr",
     "output_type": "stream",
     "text": [
      "c:\\Users\\tacse\\Documents\\Modified HPLC Introduction Paper\\Reservoir Inject Upload\\dataAnalyzerMN_IsoX.py:108: FutureWarning: Boolean inputs to the `inclusive` argument are deprecated infavour of `both` or `neither`.\n",
      "  mergedDf = mergedDf[mergedDf['retTime'].between(timeBounds[0], timeBounds[1], inclusive=True)]\n"
     ]
    },
    {
     "name": "stdout",
     "output_type": "stream",
     "text": [
      "20230106_08_Perchlorate_High_Precision_Same_Line_Same_Reservoir_STD_1\n",
      "20230106_09_Perchlorate_High_Precision_Same_Line_Same_Reservoir_STD_2\n",
      "20230106_10_Perchlorate_High_Precision_Same_Line_Same_Reservoir_STD_3\n",
      "20230106_11_Perchlorate_High_Precision_Same_Line_Same_Reservoir_STD_4\n",
      "20230106_12_Perchlorate_High_Precision_Same_Line_Same_Reservoir_STD_5\n",
      "20230106_13_Perchlorate_High_Precision_Same_Line_Same_Reservoir_STD_6\n",
      "20230106_14_Perchlorate_High_Precision_Same_Line_Same_Reservoir_STD_7\n",
      "20230106_08_Perchlorate_High_Precision_Same_Line_Same_Reservoir_STD_1 37Cl17O has 21 zero scans, out of 14251 scans (0.0014735808013472739)\n",
      "20230106_09_Perchlorate_High_Precision_Same_Line_Same_Reservoir_STD_2 37Cl17O has 22 zero scans, out of 14282 scans (0.001540400504131074)\n",
      "20230106_10_Perchlorate_High_Precision_Same_Line_Same_Reservoir_STD_3 37Cl17O has 30 zero scans, out of 14323 scans (0.002094533268170076)\n",
      "20230106_11_Perchlorate_High_Precision_Same_Line_Same_Reservoir_STD_4 37Cl17O has 29 zero scans, out of 14330 scans (0.0020237264480111655)\n",
      "20230106_12_Perchlorate_High_Precision_Same_Line_Same_Reservoir_STD_5 37Cl17O has 32 zero scans, out of 14346 scans (0.002230586923184163)\n",
      "20230106_13_Perchlorate_High_Precision_Same_Line_Same_Reservoir_STD_6 37Cl17O has 47 zero scans, out of 14330 scans (0.0032798325191905095)\n",
      "20230106_14_Perchlorate_High_Precision_Same_Line_Same_Reservoir_STD_7 37Cl17O has 48 zero scans, out of 14330 scans (0.003349616189811584)\n",
      "17O\n"
     ]
    },
    {
     "name": "stderr",
     "output_type": "stream",
     "text": [
      "100%|██████████| 12251/12251 [00:03<00:00, 3447.10it/s]\n",
      "100%|██████████| 12282/12282 [00:03<00:00, 3667.88it/s]\n",
      "100%|██████████| 12323/12323 [00:03<00:00, 3973.83it/s]\n",
      "100%|██████████| 12330/12330 [00:03<00:00, 3497.62it/s]\n",
      "100%|██████████| 12346/12346 [00:03<00:00, 3614.85it/s]\n",
      "100%|██████████| 12330/12330 [00:03<00:00, 3595.08it/s]\n",
      "100%|██████████| 12330/12330 [00:03<00:00, 4080.48it/s]\n"
     ]
    },
    {
     "name": "stdout",
     "output_type": "stream",
     "text": [
      "18O\n"
     ]
    },
    {
     "name": "stderr",
     "output_type": "stream",
     "text": [
      "100%|██████████| 12251/12251 [00:04<00:00, 3042.22it/s]\n",
      "100%|██████████| 12282/12282 [00:03<00:00, 3845.29it/s]\n",
      "100%|██████████| 12323/12323 [00:03<00:00, 3882.27it/s]\n",
      "100%|██████████| 12330/12330 [00:03<00:00, 3360.93it/s]\n",
      "100%|██████████| 12346/12346 [00:03<00:00, 3754.60it/s]\n",
      "100%|██████████| 12330/12330 [00:04<00:00, 3022.43it/s]\n",
      "100%|██████████| 12330/12330 [00:05<00:00, 2271.25it/s]\n"
     ]
    },
    {
     "name": "stdout",
     "output_type": "stream",
     "text": [
      "37Cl\n"
     ]
    },
    {
     "name": "stderr",
     "output_type": "stream",
     "text": [
      "100%|██████████| 12251/12251 [00:06<00:00, 1779.86it/s]\n",
      "100%|██████████| 12282/12282 [00:03<00:00, 3974.64it/s]\n",
      "100%|██████████| 12323/12323 [00:04<00:00, 3001.33it/s]\n",
      "100%|██████████| 12330/12330 [00:04<00:00, 3033.86it/s]\n",
      "100%|██████████| 12346/12346 [00:03<00:00, 4051.09it/s]\n",
      "100%|██████████| 12330/12330 [00:03<00:00, 3494.31it/s]\n",
      "100%|██████████| 12330/12330 [00:03<00:00, 3440.20it/s]\n"
     ]
    },
    {
     "name": "stdout",
     "output_type": "stream",
     "text": [
      "37Cl17O\n"
     ]
    },
    {
     "name": "stderr",
     "output_type": "stream",
     "text": [
      "100%|██████████| 12251/12251 [00:02<00:00, 4332.48it/s]\n",
      "100%|██████████| 12282/12282 [00:02<00:00, 4235.43it/s]\n",
      "100%|██████████| 12323/12323 [00:02<00:00, 4355.25it/s]\n",
      "100%|██████████| 12330/12330 [00:02<00:00, 4547.71it/s]\n",
      "100%|██████████| 12346/12346 [00:03<00:00, 4085.26it/s]\n",
      "100%|██████████| 12330/12330 [00:03<00:00, 3922.16it/s]\n",
      "100%|██████████| 12330/12330 [00:03<00:00, 3956.15it/s]\n"
     ]
    },
    {
     "name": "stdout",
     "output_type": "stream",
     "text": [
      "37Cl18O\n"
     ]
    },
    {
     "name": "stderr",
     "output_type": "stream",
     "text": [
      "100%|██████████| 12251/12251 [00:02<00:00, 4307.02it/s]\n",
      "100%|██████████| 12282/12282 [00:02<00:00, 4346.82it/s]\n",
      "100%|██████████| 12323/12323 [00:02<00:00, 4194.25it/s]\n",
      "100%|██████████| 12330/12330 [00:02<00:00, 4297.29it/s]\n",
      "100%|██████████| 12346/12346 [00:03<00:00, 3851.57it/s]\n",
      "100%|██████████| 12330/12330 [00:03<00:00, 4021.27it/s]\n",
      "100%|██████████| 12330/12330 [00:02<00:00, 4280.71it/s]\n"
     ]
    },
    {
     "name": "stdout",
     "output_type": "stream",
     "text": [
      "Unsub\n",
      "20230106_15_Perchlorate_High_Precision_Same_Line_Same_Reservoir_STD_1\n",
      "20230106_16_Perchlorate_High_Precision_Same_Line_Same_Reservoir_STD_2\n",
      "20230106_17_Perchlorate_High_Precision_Same_Line_Same_Reservoir_STD_3\n",
      "20230106_18_Perchlorate_High_Precision_Same_Line_Same_Reservoir_STD_4\n",
      "20230106_19_Perchlorate_High_Precision_Same_Line_Same_Reservoir_STD_5\n",
      "20230106_20_Perchlorate_High_Precision_Same_Line_Same_Reservoir_STD_6\n",
      "20230106_21_Perchlorate_High_Precision_Same_Line_Same_Reservoir_STD_7\n",
      "File 20230106_15_Perchlorate_High_Precision_Same_Line_Same_Reservoir_STD_1 98.9 37Cl17O/Unsub fails RSE/SN Test with value of 2.058352587772418\n",
      "File 20230106_16_Perchlorate_High_Precision_Same_Line_Same_Reservoir_STD_2 98.9 37Cl17O/Unsub fails RSE/SN Test with value of 2.015838390656839\n",
      "File 20230106_17_Perchlorate_High_Precision_Same_Line_Same_Reservoir_STD_3 98.9 37Cl17O/Unsub fails RSE/SN Test with value of 2.0411675212529117\n",
      "File 20230106_18_Perchlorate_High_Precision_Same_Line_Same_Reservoir_STD_4 98.9 37Cl17O/Unsub fails RSE/SN Test with value of 2.0652480838695078\n",
      "File 20230106_19_Perchlorate_High_Precision_Same_Line_Same_Reservoir_STD_5 98.9 37Cl17O/Unsub fails RSE/SN Test with value of 2.1244898660276728\n",
      "File 20230106_20_Perchlorate_High_Precision_Same_Line_Same_Reservoir_STD_6 98.9 37Cl17O/Unsub fails RSE/SN Test with value of 2.0591496075380293\n",
      "File 20230106_21_Perchlorate_High_Precision_Same_Line_Same_Reservoir_STD_7 98.9 37Cl17O/Unsub fails RSE/SN Test with value of 2.090546645169759\n",
      "20230106_15_Perchlorate_High_Precision_Same_Line_Same_Reservoir_STD_1 37Cl17O has 2807 zero scans, out of 14653 scans (0.19156486726267657)\n",
      "20230106_16_Perchlorate_High_Precision_Same_Line_Same_Reservoir_STD_2 37Cl17O has 2682 zero scans, out of 14660 scans (0.18294679399727148)\n",
      "20230106_17_Perchlorate_High_Precision_Same_Line_Same_Reservoir_STD_3 37Cl17O has 2781 zero scans, out of 14688 scans (0.18933823529411764)\n",
      "20230106_18_Perchlorate_High_Precision_Same_Line_Same_Reservoir_STD_4 37Cl17O has 2854 zero scans, out of 14695 scans (0.19421571963252807)\n",
      "20230106_19_Perchlorate_High_Precision_Same_Line_Same_Reservoir_STD_5 37Cl17O has 3129 zero scans, out of 14702 scans (0.2128281866412733)\n",
      "20230106_20_Perchlorate_High_Precision_Same_Line_Same_Reservoir_STD_6 37Cl17O has 2832 zero scans, out of 14699 scans (0.19266616776651474)\n",
      "20230106_21_Perchlorate_High_Precision_Same_Line_Same_Reservoir_STD_7 37Cl17O has 2971 zero scans, out of 14694 scans (0.202191370627467)\n",
      "17O\n"
     ]
    },
    {
     "name": "stderr",
     "output_type": "stream",
     "text": [
      "100%|██████████| 12653/12653 [00:03<00:00, 3569.95it/s]\n",
      "100%|██████████| 12660/12660 [00:04<00:00, 3064.77it/s]\n",
      "100%|██████████| 12688/12688 [00:03<00:00, 4152.07it/s]\n",
      "100%|██████████| 12695/12695 [00:03<00:00, 4179.53it/s]\n",
      "100%|██████████| 12702/12702 [00:03<00:00, 3207.25it/s]\n",
      "100%|██████████| 12699/12699 [00:02<00:00, 4314.59it/s]\n",
      "100%|██████████| 12694/12694 [00:02<00:00, 4286.21it/s]\n"
     ]
    },
    {
     "name": "stdout",
     "output_type": "stream",
     "text": [
      "18O\n"
     ]
    },
    {
     "name": "stderr",
     "output_type": "stream",
     "text": [
      "100%|██████████| 12653/12653 [00:03<00:00, 4127.51it/s]\n",
      "100%|██████████| 12660/12660 [00:02<00:00, 4686.10it/s]\n",
      "100%|██████████| 12688/12688 [00:02<00:00, 4699.59it/s]\n",
      "100%|██████████| 12695/12695 [00:02<00:00, 4620.78it/s]\n",
      "100%|██████████| 12702/12702 [00:02<00:00, 4384.79it/s]\n",
      "100%|██████████| 12699/12699 [00:03<00:00, 4036.90it/s]\n",
      "100%|██████████| 12694/12694 [00:02<00:00, 4598.40it/s]\n"
     ]
    },
    {
     "name": "stdout",
     "output_type": "stream",
     "text": [
      "37Cl\n"
     ]
    },
    {
     "name": "stderr",
     "output_type": "stream",
     "text": [
      "100%|██████████| 12653/12653 [00:02<00:00, 4571.44it/s]\n",
      "100%|██████████| 12660/12660 [00:02<00:00, 4595.52it/s]\n",
      "100%|██████████| 12688/12688 [00:02<00:00, 4638.06it/s]\n",
      "100%|██████████| 12695/12695 [00:02<00:00, 4671.08it/s]\n",
      "100%|██████████| 12702/12702 [00:02<00:00, 4509.24it/s]\n",
      "100%|██████████| 12699/12699 [00:04<00:00, 2829.56it/s]\n",
      "100%|██████████| 12694/12694 [00:02<00:00, 4738.62it/s]\n"
     ]
    },
    {
     "name": "stdout",
     "output_type": "stream",
     "text": [
      "37Cl17O\n"
     ]
    },
    {
     "name": "stderr",
     "output_type": "stream",
     "text": [
      "100%|██████████| 12653/12653 [00:02<00:00, 4387.09it/s]\n",
      "100%|██████████| 12660/12660 [00:02<00:00, 4630.48it/s]\n",
      "100%|██████████| 12688/12688 [00:03<00:00, 4058.95it/s]\n",
      "100%|██████████| 12695/12695 [00:03<00:00, 3307.94it/s]\n",
      "100%|██████████| 12702/12702 [00:03<00:00, 3308.05it/s]\n",
      "100%|██████████| 12699/12699 [00:03<00:00, 4124.83it/s]\n",
      "100%|██████████| 12694/12694 [00:03<00:00, 4111.06it/s]\n"
     ]
    },
    {
     "name": "stdout",
     "output_type": "stream",
     "text": [
      "37Cl18O\n"
     ]
    },
    {
     "name": "stderr",
     "output_type": "stream",
     "text": [
      "100%|██████████| 12653/12653 [00:03<00:00, 3948.69it/s]\n",
      "100%|██████████| 12660/12660 [00:04<00:00, 2704.56it/s]\n",
      "100%|██████████| 12688/12688 [00:03<00:00, 4191.65it/s]\n",
      "100%|██████████| 12695/12695 [00:02<00:00, 4261.27it/s]\n",
      "100%|██████████| 12702/12702 [00:02<00:00, 4402.13it/s]\n",
      "100%|██████████| 12699/12699 [00:03<00:00, 3359.87it/s]\n",
      "100%|██████████| 12694/12694 [00:03<00:00, 3748.97it/s]\n"
     ]
    },
    {
     "name": "stdout",
     "output_type": "stream",
     "text": [
      "Unsub\n",
      "20230106_22_Perchlorate_High_Precision_Different_Line_Same_Reservoir_STD_1\n",
      "20230106_23_Perchlorate_High_Precision_Different_Line_Same_Reservoir_STD_2\n",
      "20230106_24_Perchlorate_High_Precision_Different_Line_Same_Reservoir_STD_3\n",
      "20230106_25_Perchlorate_High_Precision_Different_Line_Same_Reservoir_STD_4\n",
      "20230106_26_Perchlorate_High_Precision_Different_Line_Same_Reservoir_STD_5\n",
      "20230106_27_Perchlorate_High_Precision_Different_Line_Same_Reservoir_STD_6\n",
      "20230106_28_Perchlorate_High_Precision_Different_Line_Same_Reservoir_STD_7\n",
      "File 20230106_22_Perchlorate_High_Precision_Different_Line_Same_Reservoir_STD_1 98.9 37Cl17O/Unsub fails RSE/SN Test with value of 2.113598868787402\n",
      "File 20230106_23_Perchlorate_High_Precision_Different_Line_Same_Reservoir_STD_2 98.9 37Cl17O/Unsub fails RSE/SN Test with value of 2.0584607504571504\n",
      "File 20230106_24_Perchlorate_High_Precision_Different_Line_Same_Reservoir_STD_3 98.9 37Cl17O/Unsub fails RSE/SN Test with value of 2.0239205259431867\n",
      "File 20230106_25_Perchlorate_High_Precision_Different_Line_Same_Reservoir_STD_4 98.9 37Cl17O/Unsub fails RSE/SN Test with value of 2.0490380512447692\n",
      "File 20230106_26_Perchlorate_High_Precision_Different_Line_Same_Reservoir_STD_5 98.9 37Cl17O/Unsub fails RSE/SN Test with value of 2.031768020295352\n",
      "File 20230106_27_Perchlorate_High_Precision_Different_Line_Same_Reservoir_STD_6 98.9 37Cl17O/Unsub fails RSE/SN Test with value of 2.0428839406473394\n",
      "File 20230106_28_Perchlorate_High_Precision_Different_Line_Same_Reservoir_STD_7 98.9 37Cl17O/Unsub fails RSE/SN Test with value of 2.033616462752743\n",
      "20230106_22_Perchlorate_High_Precision_Different_Line_Same_Reservoir_STD_1 37Cl17O has 3046 zero scans, out of 14666 scans (0.207691258693577)\n",
      "20230106_23_Perchlorate_High_Precision_Different_Line_Same_Reservoir_STD_2 37Cl17O has 2874 zero scans, out of 14689 scans (0.19565661379263394)\n",
      "20230106_24_Perchlorate_High_Precision_Different_Line_Same_Reservoir_STD_3 37Cl17O has 2744 zero scans, out of 14641 scans (0.1874188921521754)\n",
      "20230106_25_Perchlorate_High_Precision_Different_Line_Same_Reservoir_STD_4 37Cl17O has 2841 zero scans, out of 14653 scans (0.1938852112195455)\n",
      "20230106_26_Perchlorate_High_Precision_Different_Line_Same_Reservoir_STD_5 37Cl17O has 2762 zero scans, out of 14660 scans (0.18840381991814462)\n",
      "20230106_27_Perchlorate_High_Precision_Different_Line_Same_Reservoir_STD_6 37Cl17O has 2821 zero scans, out of 14650 scans (0.19255972696245735)\n",
      "20230106_28_Perchlorate_High_Precision_Different_Line_Same_Reservoir_STD_7 37Cl17O has 2767 zero scans, out of 14670 scans (0.18861622358554875)\n",
      "17O\n"
     ]
    },
    {
     "name": "stderr",
     "output_type": "stream",
     "text": [
      "100%|██████████| 12666/12666 [00:05<00:00, 2484.33it/s]\n",
      "100%|██████████| 12689/12689 [00:07<00:00, 1735.03it/s]\n",
      "100%|██████████| 12641/12641 [00:04<00:00, 2537.00it/s]\n",
      "100%|██████████| 12653/12653 [00:04<00:00, 3049.70it/s]\n",
      "100%|██████████| 12660/12660 [00:03<00:00, 3359.92it/s]\n",
      "100%|██████████| 12650/12650 [00:03<00:00, 3758.15it/s]\n",
      "100%|██████████| 12670/12670 [00:02<00:00, 4927.76it/s]\n"
     ]
    },
    {
     "name": "stdout",
     "output_type": "stream",
     "text": [
      "18O\n"
     ]
    },
    {
     "name": "stderr",
     "output_type": "stream",
     "text": [
      "100%|██████████| 12666/12666 [00:02<00:00, 4990.03it/s]\n",
      "100%|██████████| 12689/12689 [00:02<00:00, 5024.42it/s]\n",
      "100%|██████████| 12641/12641 [00:02<00:00, 4401.66it/s]\n",
      "100%|██████████| 12653/12653 [00:03<00:00, 3875.65it/s]\n",
      "100%|██████████| 12660/12660 [00:02<00:00, 4523.55it/s]\n",
      "100%|██████████| 12650/12650 [00:02<00:00, 5151.55it/s]\n",
      "100%|██████████| 12670/12670 [00:02<00:00, 4886.93it/s]\n"
     ]
    },
    {
     "name": "stdout",
     "output_type": "stream",
     "text": [
      "37Cl\n"
     ]
    },
    {
     "name": "stderr",
     "output_type": "stream",
     "text": [
      "100%|██████████| 12666/12666 [00:02<00:00, 4599.39it/s]\n",
      "100%|██████████| 12689/12689 [00:02<00:00, 5055.26it/s]\n",
      "100%|██████████| 12641/12641 [00:02<00:00, 5172.81it/s]\n",
      "100%|██████████| 12653/12653 [00:02<00:00, 5402.61it/s]\n",
      "100%|██████████| 12660/12660 [00:02<00:00, 5239.58it/s]\n",
      "100%|██████████| 12650/12650 [00:02<00:00, 5478.85it/s]\n",
      "100%|██████████| 12670/12670 [00:02<00:00, 5458.05it/s]\n"
     ]
    },
    {
     "name": "stdout",
     "output_type": "stream",
     "text": [
      "37Cl17O\n"
     ]
    },
    {
     "name": "stderr",
     "output_type": "stream",
     "text": [
      "100%|██████████| 12666/12666 [00:02<00:00, 5225.10it/s]\n",
      "100%|██████████| 12689/12689 [00:03<00:00, 4152.82it/s]\n",
      "100%|██████████| 12641/12641 [00:03<00:00, 4159.30it/s]\n",
      "100%|██████████| 12653/12653 [00:03<00:00, 3973.30it/s]\n",
      "100%|██████████| 12660/12660 [00:02<00:00, 4496.27it/s]\n",
      "100%|██████████| 12650/12650 [00:02<00:00, 4834.83it/s]\n",
      "100%|██████████| 12670/12670 [00:03<00:00, 3920.32it/s]\n"
     ]
    },
    {
     "name": "stdout",
     "output_type": "stream",
     "text": [
      "37Cl18O\n"
     ]
    },
    {
     "name": "stderr",
     "output_type": "stream",
     "text": [
      "100%|██████████| 12666/12666 [00:02<00:00, 4924.70it/s]\n",
      "100%|██████████| 12689/12689 [00:02<00:00, 4791.24it/s]\n",
      "  3%|▎         | 421/12641 [00:00<00:02, 4170.11it/s]"
     ]
    }
   ],
   "source": [
    "run readPerchlorate.py"
   ]
  },
  {
   "cell_type": "code",
   "execution_count": null,
   "id": "f827e74d",
   "metadata": {},
   "outputs": [],
   "source": [
    "#Read in results from dataframes and compute ratios\n",
    "\n",
    "import numpy as np\n",
    "\n",
    "triplicateNameDict = {'20230106_08_to_14_Perchlorate_High_Precision_Same_Line_Same_Reservoir_Combined_5e5.isox':'5e5',\n",
    "'20230106_15_to_21_Perchlorate_High_Precision_Same_Line_Same_Reservoir_Combined_2e5.isox':'2e5_S',\n",
    "'20230106_22_to_28_Perchlorate_High_Precision_Different_Line_Same_Reservoir_Combined_2e5.isox':'2e5_D'}\n",
    "\n",
    "triplicateRatios = {}\n",
    "\n",
    "#Go through each triplicate, i.e. each set of 7 files.\n",
    "for triplicateIdx, (triplicateName, triplicateData) in enumerate(allTriplicates.items()):\n",
    "    thisName = triplicateNameDict[triplicateName]\n",
    "    triplicateRatios[thisName] = {}\n",
    "    ratioKeys = ['37Cl/Unsub','17O/Unsub','18O/Unsub','37Cl17O/Unsub','37Cl18O/Unsub']\n",
    "    allOutputDict = triplicateData['allOutputDict']\n",
    "    #Go through each of the 7 files for this triplicate\n",
    "    for fileNumber, (fileKey, fileData) in enumerate(allOutputDict.items()):\n",
    "        #98.9 is the mass of the main perchlorate peak, so use as an index\n",
    "        thisFileData = fileData['98.9']\n",
    "        #go through by ratio\n",
    "        for ratIdx, ratioKey in enumerate(ratioKeys):\n",
    "            if ratioKey not in triplicateRatios[thisName]:\n",
    "                triplicateRatios[thisName][ratioKey] = {'Ratio':[],'StError':[],'RelStError':[],'SN':[]}\n",
    "            #Pull out relevant info\n",
    "            triplicateRatios[thisName][ratioKey]['Ratio'].append(thisFileData[ratioKey]['Ratio']),\n",
    "            triplicateRatios[thisName][ratioKey]['StError'].append(thisFileData[ratioKey]['StError'])\n",
    "            triplicateRatios[thisName][ratioKey]['RelStError'].append(thisFileData[ratioKey]['RelStError'])\n",
    "            triplicateRatios[thisName][ratioKey]['SN'].append(thisFileData[ratioKey]['ShotNoiseLimit'])"
   ]
  },
  {
   "cell_type": "code",
   "execution_count": null,
   "id": "9a5d4f39",
   "metadata": {},
   "outputs": [],
   "source": [
    "from scipy import stats\n",
    "import numpy as np\n",
    "import pandas as pd\n",
    "import seaborn as sns\n",
    "import matplotlib.pyplot as plt\n",
    "import matplotlib\n",
    "from matplotlib.ticker import FormatStrFormatter\n",
    "import copy\n",
    "\n",
    "#Compute sample standard comparisons\n",
    "standardizedTriplicates = {}\n",
    "\n",
    "#For each triplicate\n",
    "for triplicateIdx, (triplicateKey, triplicateData) in enumerate(triplicateRatios.items()):\n",
    "    standardizedTriplicates[triplicateKey] = {}\n",
    "    #Prepare perchlorate data for plotting\n",
    "    linearStandardization = {}\n",
    "    linearSamples = {}\n",
    "\n",
    "    #Go through files and standardize measurements; for each file...\n",
    "    for fileIdx in range(7):\n",
    "        #for each isotope\n",
    "        for isotopeKey, isotopeData in triplicateData.items():\n",
    "            if isotopeKey not in linearStandardization:\n",
    "                linearStandardization[isotopeKey] = {'Values':[],'RelStdError':[]}\n",
    "            if isotopeKey not in linearSamples:\n",
    "                linearSamples[isotopeKey] = {'Values':[],'RelStdError':[]}\n",
    "            \n",
    "            #If it is a standard file\n",
    "            if fileIdx % 2 == 0:\n",
    "                linearStandardization[isotopeKey]['Values'].append(isotopeData['Ratio'][fileIdx])\n",
    "                linearStandardization[isotopeKey]['RelStdError'].append(isotopeData['RelStError'][fileIdx])\n",
    "\n",
    "            #If it is a sample file\n",
    "            else:\n",
    "                linearSamples[isotopeKey]['Values'].append(isotopeData['Ratio'][fileIdx])\n",
    "                linearSamples[isotopeKey]['RelStdError'].append(isotopeData['RelStError'][fileIdx])\n",
    "\n",
    "    #Fill in the standardized values\n",
    "    standardizationDict = {}\n",
    "    #First pull out only standards\n",
    "    for subKey, subData in linearStandardization.items():\n",
    "        thisVals = subData['Values']\n",
    "\n",
    "        #Perform a linear regression\n",
    "        n = len(thisVals)\n",
    "        xs = np.arange(0,n,1)\n",
    "        slope, intercept, r_value, p_value, slope_serr = stats.linregress(xs,thisVals)\n",
    "\n",
    "        #calculate useful intermediates\n",
    "        predictions = slope * xs + intercept \n",
    "        yerr = thisVals - predictions \n",
    "        s_err = np.sum(yerr**2)\n",
    "        mean_x = np.mean(xs)       \n",
    "        # appropriate t value (where n=4, two tailed 68%)            \n",
    "        t = stats.t.ppf(1-0.16, n-2)              \n",
    "\n",
    "        #Define a function to calculate the error in this regression at a certain x value\n",
    "        def errorAtX(thisX):\n",
    "            pointErr = np.sqrt(s_err / (n-2)) * np.sqrt(1.0/n + (thisX - mean_x)**2 / np.sum((xs-mean_x)**2))\n",
    "            return pointErr\n",
    "        \n",
    "        #Standardize sample values\n",
    "        smpxs = np.arange(0.5,3.5,1)\n",
    "        smpPreds = slope * smpxs + intercept\n",
    "        smpErr = errorAtX(smpxs)\n",
    "\n",
    "        #fill in dictionary\n",
    "        standardizationDict[subKey] = {'Values':smpPreds, 'RelStdError': smpErr / smpPreds}\n",
    "\n",
    "    #Convert to delta values and fill in another dictionary with these\n",
    "    deltasDict = {}\n",
    "    for subKey, subData in linearSamples.items():\n",
    "        standardizedVals = np.array(subData['Values']) / standardizationDict[subKey]['Values']\n",
    "        standardizedErrs = np.sqrt(np.array(subData['RelStdError'])**2 + standardizationDict[subKey]['RelStdError']**2)\n",
    "        standardizedDeltas = 1000*(standardizedVals - 1)\n",
    "\n",
    "        deltasDict[subKey] = {'Deltas':standardizedDeltas, 'RSEs':1000*standardizedErrs}\n",
    "\n",
    "    #Add the results for this replicate to the output\n",
    "    standardizedTriplicates[triplicateKey] = copy.deepcopy(deltasDict)"
   ]
  },
  {
   "cell_type": "code",
   "execution_count": null,
   "id": "2b57f9c1",
   "metadata": {},
   "outputs": [
    {
     "data": {
      "image/png": "[encoded data removed]",
      "text/plain": [
       "<Figure size 910x420 with 6 Axes>"
      ]
     },
     "metadata": {},
     "output_type": "display_data"
    }
   ],
   "source": [
    "#First output plot; the 37Cl data\n",
    "import matplotlib.pyplot as plt\n",
    "\n",
    "fig, axes = plt.subplots(nrows = 3, ncols = 2, figsize = (13*0.7,6*0.7), \n",
    "                         gridspec_kw={'width_ratios': [3, 2.5]}, sharex = 'col')\n",
    "\n",
    "#Parameters for the scatter plots\n",
    "plotParamsDict = {'5e5':{   'marker' : 's',\n",
    "                            'markersize' : 7,\n",
    "                            'mfc' : 'w',\n",
    "                            'mec' : 'k',\n",
    "                            'mew' : 1.2,\n",
    "                            'deltaYlim':(-1.8,1.4)},\n",
    "                            \n",
    "                '2e5_S':{   'marker' : 'o',\n",
    "                            'markersize' : 8,\n",
    "                            'mfc' : 'w',\n",
    "                            'mec' : 'tab:red',\n",
    "                            'mew' : 1.2,\n",
    "                            'deltaYlim':(-1.8,1.4)},\n",
    "                    \n",
    "                '2e5_D':{   'marker' : '^',\n",
    "                            'markersize' : 8,\n",
    "                            'mfc' : 'w',\n",
    "                            'mec' : 'darkblue',\n",
    "                            'mew' : 1.2,\n",
    "                            'deltaYlim':(-1.8,1.4)}}\n",
    "\n",
    "actualValueColor = 'tab:red'\n",
    "\n",
    "plotKeys = ['5e5','2e5_S','2e5_D']\n",
    "\n",
    "#For each experiment\n",
    "for plotIdx, plotKey in enumerate(plotKeys):\n",
    "    #Get the new axes, plot raw values with relevant parameters\n",
    "    cAx = axes[plotIdx,0]\n",
    "\n",
    "    cAx.errorbar(range(7), triplicateRatios[plotKey]['37Cl/Unsub']['Ratio'], triplicateRatios[plotKey]['37Cl/Unsub']['StError'],\n",
    "    fmt = plotParamsDict[plotKey]['marker'], \n",
    "    markersize = plotParamsDict[plotKey]['markersize'], \n",
    "    mfc = plotParamsDict[plotKey]['mfc'], \n",
    "    mec = plotParamsDict[plotKey]['mec'], \n",
    "    ecolor = plotParamsDict[plotKey]['mec'], \n",
    "    mew  = plotParamsDict[plotKey]['mew'])\n",
    "\n",
    "    #add labels\n",
    "    xticks = list(range(7))\n",
    "    xtickLabels = ['Std 1','Smp 1','Std 2','Smp 2','Std 3', 'Smp 3','Std 4']\n",
    "\n",
    "    #beautify axis\n",
    "    cAx.set_xticks(xticks)\n",
    "    cAx.set_xticklabels(xtickLabels)\n",
    "    #cAx.set_ylim(0.0596,0.0619)\n",
    "    cAx.yaxis.set_major_locator(plt.MaxNLocator(3))\n",
    "\n",
    "    if plotIdx == 0:\n",
    "        cAx.set_title(u\"$^{37}$Cl/Unsub\", fontsize = 16)\n",
    "    cAx.set_ylabel(plotKey, fontsize = 16)\n",
    "\n",
    "    #Plot standardized values with relevant parameters\n",
    "    cAx = axes[plotIdx,1]\n",
    "    \n",
    "    thisDeltas = np.array(standardizedTriplicates[plotKey]['37Cl/Unsub']['Deltas'])\n",
    "    cAx.errorbar(range(3),thisDeltas, standardizedTriplicates[plotKey]['37Cl/Unsub']['RSEs'],    \n",
    "            fmt = plotParamsDict[plotKey]['marker'], \n",
    "            markersize = plotParamsDict[plotKey]['markersize'], \n",
    "            mfc = plotParamsDict[plotKey]['mfc'], \n",
    "            mec = plotParamsDict[plotKey]['mec'], \n",
    "            ecolor = plotParamsDict[plotKey]['mec'], \n",
    "            mew  = plotParamsDict[plotKey]['mew'])\n",
    "\n",
    "    xticks = list(range(3))\n",
    "    xtickLabels = ['Bracket 1', 'Bracket 2','Bracket 3']\n",
    "\n",
    "    #Beautify axis\n",
    "    cAx.set_xlim(-0.3,2.3)\n",
    "\n",
    "    cAx.set_xticks(xticks)\n",
    "    cAx.set_xticklabels(xtickLabels)\n",
    "    if plotIdx == 0:\n",
    "        cAx.set_title(u\"$\\delta^{37}Cl_{STD}$\", fontsize = 16)\n",
    "\n",
    "    cAx.hlines(0,-0.5,2.5,linestyle = '--',color = actualValueColor, \n",
    "            label = \"Independent  Value\")\n",
    "\n",
    "    cAx.yaxis.set_major_locator(plt.MaxNLocator(3))\n",
    "    cAx.set_ylim(plotParamsDict[plotKey]['deltaYlim'])\n",
    "       \n",
    "plt.tight_layout()\n",
    "\n",
    "#Output as vector format\n",
    "fig.savefig('Perchlorate Replicability.eps')"
   ]
  },
  {
   "cell_type": "code",
   "execution_count": null,
   "id": "d3b8f4c8",
   "metadata": {},
   "outputs": [
    {
     "data": {
      "image/png": "[encoded data removed]",
      "text/plain": [
       "<Figure size 1230x410 with 8 Axes>"
      ]
     },
     "metadata": {},
     "output_type": "display_data"
    }
   ],
   "source": [
    "#Second output plot; remaining data\n",
    "\n",
    "fig, axes = plt.subplots(nrows = 2, ncols = 4, figsize = (15*0.82,5*0.82), \n",
    "                         gridspec_kw={'width_ratios': [1,1,1,1]}, sharex = 'col')\n",
    "\n",
    "#relevant plot parameters\n",
    "plotParamsDict = {'17O/Unsub':{   'marker' : 's',\n",
    "                            'markersize' : 10,\n",
    "                            'mfc' : 'w',\n",
    "                            'mec' : 'tab:red',\n",
    "                            'mew' : 1.2,\n",
    "                            'deltaYlim':(-1.2,1.2)},\n",
    "                            \n",
    "                '18O/Unsub':{   'marker' : 'o',\n",
    "                            'markersize' : 10,\n",
    "                            'mfc' : 'w',\n",
    "                            'mec' : 'darkred',\n",
    "                            'mew' : 1.2,\n",
    "                            'deltaYlim':(-1.2,1.2)},\n",
    "                    \n",
    "                '37Cl17O/Unsub':{   'marker' : '^',\n",
    "                            'markersize' : 10,\n",
    "                            'mfc' : 'w',\n",
    "                            'mec' : 'darkolivegreen',\n",
    "                            'mew' : 1.2,\n",
    "                            'deltaYlim':(-1.2,1.2)},\n",
    "                            \n",
    "                '37Cl18O/Unsub':{   'marker' : 'H',\n",
    "                            'markersize' : 10,\n",
    "                            'mfc' : 'w',\n",
    "                            'mec' : 'darkgreen',\n",
    "                            'mew' : 1.2,\n",
    "                            'deltaYlim':(-1.2,1.2)}}\n",
    "\n",
    "actualValueColor = 'tab:red'\n",
    "\n",
    "#Ignore 2e5_S because it is qualitatively similar and adds clutter\n",
    "plotKeys = ['5e5','2e5_D']\n",
    "\n",
    "ratKeys = ['17O/Unsub','18O/Unsub','37Cl17O/Unsub','37Cl18O/Unsub']\n",
    "fancyRatKeys = [u\"$\\delta^{17}O_{STD}$\",u\"$\\delta^{18}O_{STD}$\",u\"$\\delta^{37}Cl^{17}O_{STD}$\",u\"$\\delta^{37}Cl^{18}O_{STD}$\"]\n",
    "\n",
    "#Go through each plot, then each ratio\n",
    "for plotIdx, plotKey in enumerate(plotKeys):\n",
    "    for ratIdx, ratKey in enumerate(ratKeys):\n",
    "        cAx = axes[plotIdx,ratIdx]\n",
    "    \n",
    "        #Plot standardized values\n",
    "        thisDeltas = np.array(standardizedTriplicates[plotKey][ratKey]['Deltas'])\n",
    "        cAx.errorbar(range(3),thisDeltas, np.array(standardizedTriplicates[plotKey][ratKey]['RSEs']),    \n",
    "                fmt = plotParamsDict[ratKey]['marker'], \n",
    "                markersize = plotParamsDict[ratKey]['markersize'], \n",
    "                mfc = plotParamsDict[ratKey]['mfc'], \n",
    "                mec = plotParamsDict[ratKey]['mec'], \n",
    "                ecolor = plotParamsDict[ratKey]['mec'], \n",
    "                mew  = plotParamsDict[ratKey]['mew'])\n",
    "\n",
    "        #label axis\n",
    "        xticks = list(range(3))\n",
    "        xtickLabels = ['Bracket 1', 'Bracket 2','Bracket 3']\n",
    "\n",
    "        #beautify axis\n",
    "        cAx.set_xlim(-0.3,2.3)\n",
    "\n",
    "        cAx.set_xticks(xticks)\n",
    "        cAx.set_xticklabels(xtickLabels)\n",
    "        if ratIdx == 0:\n",
    "            cAx.set_ylabel(plotKeys[plotIdx], fontsize = 16)\n",
    "\n",
    "        cAx.hlines(0,-0.5,2.5,linestyle = '--',color = actualValueColor, \n",
    "                label = \"Independent  Value\")\n",
    "\n",
    "        cAx.yaxis.set_major_locator(plt.MaxNLocator(3))\n",
    "\n",
    "        #Add precision labels\n",
    "        thisPrecision = np.array(standardizedTriplicates[plotKey][ratKey]['RSEs']).mean()\n",
    "        cAx.set_title(fancyRatKeys[ratIdx] + \" {:.1f}\".format(thisPrecision) + \" ‰\", fontsize = 16)                           \n",
    "        #cAx.set_ylim(plotParamsDict[plotKey]['deltaYlim'])\n",
    "\n",
    "plt.tight_layout()\n",
    "\n",
    "#Output\n",
    "fig.savefig('Perchlorate Other Data.eps')"
   ]
  },
  {
   "cell_type": "code",
   "execution_count": null,
   "id": "501a8f76",
   "metadata": {},
   "outputs": [],
   "source": [
    "#Optional csv output\n",
    "import csv\n",
    "    \n",
    "with open('PerchlorateTable.csv', 'w', newline='') as csvfile:\n",
    "    write = csv.writer(csvfile, delimiter=',')\n",
    "\n",
    "    #Iterate through this dictionary and prepare to make a csv\n",
    "    for triplicateKey, triplicateData in standardizedTriplicates.items():\n",
    "        #header\n",
    "        headerRow = ['','Bracket 1','Bracket 2','Bracket 3','ER']\n",
    "        write.writerow(headerRow)\n",
    "        for subKey, subData in triplicateData.items():\n",
    "            #Fill in each sample acquisition\n",
    "            thisRow = [subKey]\n",
    "            for repIdx in range(3):\n",
    "                thisVal = subData['Deltas'][repIdx]\n",
    "                thisErr = subData['RSEs'][repIdx]\n",
    "                thisRow.append(f\"{thisVal:.1f}\" + ' +/- ' + f\"{thisErr:.1f}\")\n",
    "\n",
    "            #Fill in average across all samples\n",
    "            thisER = np.array(subData['Deltas']).mean()\n",
    "            thisERErr = np.array(subData['Deltas']).std()\n",
    "\n",
    "            thisRow.append(f\"{thisER:.1f}\" + ' +/- ' + f\"{thisERErr:.1f}\")\n",
    "\n",
    "            write.writerow(thisRow)"
   ]
  },
  {
   "cell_type": "code",
   "execution_count": null,
   "id": "4f894eae",
   "metadata": {},
   "outputs": [],
   "source": []
  }
 ],
 "metadata": {
  "kernelspec": {
   "display_name": "Python 3.7.11 ('Orbitrap')",
   "language": "python",
   "name": "python3"
  },
  "language_info": {
   "codemirror_mode": {
    "name": "ipython",
    "version": 3
   },
   "file_extension": ".py",
   "mimetype": "text/x-python",
   "name": "python",
   "nbconvert_exporter": "python",
   "pygments_lexer": "ipython3",
   "version": "3.7.11"
  },
  "vscode": {
   "interpreter": {
    "hash": "16f5581f95d5a0d39305ef18d1df771fa3d7ec0a3108dd60bc5ee9e96d6232e4"
   }
  }
 },
 "nbformat": 4,
 "nbformat_minor": 5
}
